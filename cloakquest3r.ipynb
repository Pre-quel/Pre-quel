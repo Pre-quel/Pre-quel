{
  "nbformat": 4,
  "nbformat_minor": 0,
  "metadata": {
    "colab": {
      "provenance": []
    },
    "kernelspec": {
      "name": "python3",
      "display_name": "Python 3"
    },
    "language_info": {
      "name": "python"
    }
  },
  "cells": [
    {
      "cell_type": "code",
      "execution_count": 1,
      "metadata": {
        "colab": {
          "base_uri": "https://localhost:8080/"
        },
        "id": "TIsiOFgBBles",
        "outputId": "662f280b-8802-4e11-9029-8b94b8727bd5"
      },
      "outputs": [
        {
          "output_type": "stream",
          "name": "stdout",
          "text": [
            "Cloning into 'CloakQuest3r'...\n",
            "remote: Enumerating objects: 240, done.\u001b[K\n",
            "remote: Counting objects: 100% (118/118), done.\u001b[K\n",
            "remote: Compressing objects: 100% (58/58), done.\u001b[K\n",
            "remote: Total 240 (delta 101), reused 60 (delta 60), pack-reused 122 (from 1)\u001b[K\n",
            "Receiving objects: 100% (240/240), 1.14 MiB | 7.80 MiB/s, done.\n",
            "Resolving deltas: 100% (132/132), done.\n"
          ]
        }
      ],
      "source": [
        "! git clone https://github.com/spyboy-productions/CloakQuest3r.git"
      ]
    },
    {
      "cell_type": "code",
      "source": [
        "cd CloakQuest3r"
      ],
      "metadata": {
        "colab": {
          "base_uri": "https://localhost:8080/"
        },
        "id": "8sk7FSkHB3Ka",
        "outputId": "356acf17-4128-42cc-c96f-76d437814185"
      },
      "execution_count": 2,
      "outputs": [
        {
          "output_type": "stream",
          "name": "stdout",
          "text": [
            "/content/CloakQuest3r\n"
          ]
        }
      ]
    },
    {
      "cell_type": "code",
      "source": [
        "!pip install -r requirements.txt"
      ],
      "metadata": {
        "colab": {
          "base_uri": "https://localhost:8080/"
        },
        "id": "sRZIKUz9B5a9",
        "outputId": "60e017ec-e193-4137-fe09-96102f0656fc"
      },
      "execution_count": 3,
      "outputs": [
        {
          "output_type": "stream",
          "name": "stdout",
          "text": [
            "Requirement already satisfied: requests in /usr/local/lib/python3.11/dist-packages (from -r requirements.txt (line 1)) (2.32.3)\n",
            "Collecting colorama (from -r requirements.txt (line 2))\n",
            "  Downloading colorama-0.4.6-py2.py3-none-any.whl.metadata (17 kB)\n",
            "Collecting bs4 (from -r requirements.txt (line 3))\n",
            "  Downloading bs4-0.0.2-py2.py3-none-any.whl.metadata (411 bytes)\n",
            "Requirement already satisfied: cryptography in /usr/local/lib/python3.11/dist-packages (from -r requirements.txt (line 4)) (43.0.3)\n",
            "Requirement already satisfied: charset-normalizer<4,>=2 in /usr/local/lib/python3.11/dist-packages (from requests->-r requirements.txt (line 1)) (3.4.1)\n",
            "Requirement already satisfied: idna<4,>=2.5 in /usr/local/lib/python3.11/dist-packages (from requests->-r requirements.txt (line 1)) (3.10)\n",
            "Requirement already satisfied: urllib3<3,>=1.21.1 in /usr/local/lib/python3.11/dist-packages (from requests->-r requirements.txt (line 1)) (2.3.0)\n",
            "Requirement already satisfied: certifi>=2017.4.17 in /usr/local/lib/python3.11/dist-packages (from requests->-r requirements.txt (line 1)) (2025.1.31)\n",
            "Requirement already satisfied: beautifulsoup4 in /usr/local/lib/python3.11/dist-packages (from bs4->-r requirements.txt (line 3)) (4.13.3)\n",
            "Requirement already satisfied: cffi>=1.12 in /usr/local/lib/python3.11/dist-packages (from cryptography->-r requirements.txt (line 4)) (1.17.1)\n",
            "Requirement already satisfied: pycparser in /usr/local/lib/python3.11/dist-packages (from cffi>=1.12->cryptography->-r requirements.txt (line 4)) (2.22)\n",
            "Requirement already satisfied: soupsieve>1.2 in /usr/local/lib/python3.11/dist-packages (from beautifulsoup4->bs4->-r requirements.txt (line 3)) (2.6)\n",
            "Requirement already satisfied: typing-extensions>=4.0.0 in /usr/local/lib/python3.11/dist-packages (from beautifulsoup4->bs4->-r requirements.txt (line 3)) (4.12.2)\n",
            "Downloading colorama-0.4.6-py2.py3-none-any.whl (25 kB)\n",
            "Downloading bs4-0.0.2-py2.py3-none-any.whl (1.2 kB)\n",
            "Installing collected packages: colorama, bs4\n",
            "Successfully installed bs4-0.0.2 colorama-0.4.6\n"
          ]
        }
      ]
    },
    {
      "cell_type": "code",
      "source": [
        "!python cloakquest3r.py top.gg"
      ],
      "metadata": {
        "colab": {
          "base_uri": "https://localhost:8080/"
        },
        "id": "lMMSxCGYB7Ka",
        "outputId": "3cb69b1c-2968-4a92-d858-2c28ab386de1"
      },
      "execution_count": 4,
      "outputs": [
        {
          "output_type": "stream",
          "name": "stdout",
          "text": [
            "\u001b[31m\n",
            "   ___ _             _      ____                 _   _____\n",
            "  / __\\ | ___   __ _| | __ /___ \\_   _  ___  ___| |_|___ / _ __\n",
            " / /  | |/ _ \\ / _` | |/ ///  / / | | |/ _ \\/ __| __| |_ \\| '__|\n",
            "/ /___| | (_) | (_| |   </ \\_/ /| |_| |  __/\\__ \\ |_ ___) | |\n",
            "\\____/|_|\\___/ \\__,_|_|\\_\\___,_\\ \\__,_|\\___||___/\\__|____/|_|\n",
            "Uncover the true IP address of websites safeguarded by Cloudflare & ohers.\n",
            "\u001b[0m\n",
            "\n",
            "\u001b[32m[+] \u001b[33mVersion      : \u001b[0m1.0.5\n",
            "\u001b[32m[+] \u001b[33mCreated By   : \u001b[0mSpyboy\n",
            "\u001b[32m └➤ \u001b[33mTwitter      : \u001b[0mhttps://spyboy.in/twitter\n",
            "\u001b[32m └➤ \u001b[33mDiscord      : \u001b[0mhttps://spyboy.in/Discord\n",
            "\u001b[32m └➤ \u001b[33mWebsite      : \u001b[0mhttps://spyboy.in/\n",
            "\u001b[32m └➤ \u001b[33mBlog         : \u001b[0mhttps://spyboy.blog/\n",
            "\u001b[32m └➤ \u001b[33mGithub       : \u001b[0mhttps://github.com/spyboy-productions/CloakQuest3r\n",
            "\n",
            "\n",
            "\u001b[32m[!] \u001b[36mChecking if the website uses Cloudflare\u001b[39m\n",
            "\n",
            "\n",
            "\u001b[31mTarget Website: \u001b[0mtop.gg\n",
            "\u001b[31mVisible IP Address: \u001b[0m104.17.224.169\n",
            "\n",
            "\n",
            "[!] \u001b[36mSecurityTrails\u001b[31m API Key not found in config.ini file\u001b[39m\n",
            "\n",
            "\u001b[31mPlease add your \u001b[36mSecurityTrails\u001b[31m API Key in config.ini file\u001b[39m\n",
            "\n",
            "\u001b[32m[+] \u001b[33mScanning for subdomains.\u001b[39m\n",
            "\n",
            "\u001b[32m[+] \u001b[36mDownloading an updated wordlist from \u001b[32mSecLists\u001b[39m\n",
            "\u001b[32m[+] \u001b[36mWordlist downloaded successfully as \u001b[32mwordlist.txt\u001b[39m\n",
            "\n",
            "\u001b[36m> Do you have a custom wordlist for subdomain scanning? \u001b[32m(yes/no): Traceback (most recent call last):\n",
            "  File \"/content/CloakQuest3r/cloakquest3r.py\", line 297, in <module>\n",
            "    find_subdomains_with_ssl_analysis(domain)\n",
            "  File \"/content/CloakQuest3r/cloakquest3r.py\", line 139, in find_subdomains_with_ssl_analysis\n",
            "    wordlist_path = input(f\"\\n{Fore.CYAN}> Do you have a custom wordlist for subdomain scanning? {Fore.GREEN}(yes/no): \").lower()\n",
            "                    ^^^^^^^^^^^^^^^^^^^^^^^^^^^^^^^^^^^^^^^^^^^^^^^^^^^^^^^^^^^^^^^^^^^^^^^^^^^^^^^^^^^^^^^^^^^^^^^^^^^^^\n",
            "KeyboardInterrupt\n",
            "\u001b[0m^C\n"
          ]
        }
      ]
    }
  ]
}